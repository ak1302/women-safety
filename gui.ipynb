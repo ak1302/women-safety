{
 "cells": [
  {
   "cell_type": "code",
   "execution_count": 1,
   "metadata": {},
   "outputs": [],
   "source": [
    "import speech_recognition as speech\n",
    "\n",
    "from tkinter import *\n",
    "import time\n",
    "from selenium import  webdriver\n",
    "from selenium.webdriver.chrome.service import Service\n",
    "from webdriver_manager.chrome import ChromeDriverManager\n",
    "from selenium.webdriver.common.by import By\n",
    "import csv\n",
    "import pandas as pd\n",
    "from sklearn.model_selection import train_test_split\n",
    "from sklearn.tree import DecisionTreeRegressor\n",
    "from selenium.webdriver.common.keys import Keys"
   ]
  },
  {
   "cell_type": "code",
   "execution_count": 2,
   "metadata": {},
   "outputs": [],
   "source": [
    "a = Tk()\n",
    "a.title('SAFEST ROUTE PREDICTOR')\n",
    "a.geometry('1440x900+300+100')\n",
    "a.configure(background='powder blue')"
   ]
  },
  {
   "cell_type": "code",
   "execution_count": 3,
   "metadata": {},
   "outputs": [],
   "source": [
    "def voice1():\n",
    "    b = speech.Recognizer()\n",
    "    with speech.Microphone() as source:\n",
    "        audio = b.listen(source)\n",
    "    try:\n",
    "        text = b.recognize_google(audio)\n",
    "        name1.set(text)\n",
    "    except:\n",
    "        print('error')\n",
    "def voice2():\n",
    "    b = speech.Recognizer()\n",
    "    with speech.Microphone() as source:\n",
    "        audio = b.listen(source)\n",
    "    try:\n",
    "        text = b.recognize_google(audio)\n",
    "        name2.set(text)\n",
    "    except:\n",
    "        print('error')"
   ]
  },
  {
   "cell_type": "code",
   "execution_count": 4,
   "metadata": {},
   "outputs": [],
   "source": [
    "background_image = PhotoImage(file='images/big_map.gif')\n",
    "background_label = Label(a,image=background_image)\n",
    "background_label.place(x=0,y=0,relwidth=1,relheight=1)\n",
    "label0 = Label(text='SAFEST ROUTE PREDICTOR',width=30,font=(\"bold\",34),background='white')\n",
    "label0.place(x=400,y=25)\n",
    "label1 = Label(text='SOURCE',font=35)\n",
    "label1.place(x=480,y=150)\n",
    "name1 = StringVar()\n",
    "text1 = Entry(textvariable=name1,width=25,font=20)\n",
    "text1.place(x=650,y=150)\n",
    "label2 = Label(text='DESTINATION',font=35)\n",
    "label2.place(x=480,y=205)\n",
    "name2 = StringVar()\n",
    "text2 = Entry(textvariable=name2,width=25,font=20)\n",
    "text2.place(x=650,y=205)"
   ]
  },
  {
   "cell_type": "code",
   "execution_count": 5,
   "metadata": {},
   "outputs": [],
   "source": [
    "def conf(event):\n",
    "    src = str(name1.get())\n",
    "    dest = str(name2.get())\n",
    "\n",
    "    # selenium webdriver path in your system...\n",
    "    service = Service(executable_path=ChromeDriverManager().install())\n",
    "\n",
    "    driver = webdriver.Chrome(service=service)\n",
    "\n",
    "    driver.get('https://www.google.com/maps/dir///@27.9107022,78.0760799,15z/data=!4m2!4m1!3e0')\n",
    "\n",
    "    driver.set_window_size(1024,600)\n",
    "    driver.maximize_window()\n",
    "\n",
    "    time.sleep(5)\n",
    "\n",
    "\n",
    "    dataset1 = pd.read_csv('crime.csv')\n",
    "    X = dataset1.drop('Crime value', axis=1)\n",
    "    y = dataset1['Crime value']\n",
    "\n",
    "    #from sklearn.model_selection import train_test_split\n",
    "    X_train, X_test, y_train, y_test = train_test_split(X, y, test_size=0.2)\n",
    "\n",
    "    #from sklearn.tree import DecisionTreeRegressor\n",
    "    regressor = DecisionTreeRegressor()\n",
    "    regressor.fit(X_train, y_train)\n",
    "\n",
    "    driver.find_element(By.XPATH,'//*[@id=\"sb_ifc50\"]/input').send_keys(src)\n",
    "    driver.find_element(By.XPATH, '//*[@id=\"sb_ifc51\"]/input').send_keys(dest)\n",
    "    driver.find_element(By.XPATH, '//*[@id=\"sb_ifc51\"]/input').send_keys(Keys.RETURN)\n",
    "\n",
    "    time.sleep(5)\n",
    "\n",
    "\n",
    "\n",
    "    road_xpath = '//h1[@id=\"section-directions-trip-title-0\" or @id=\"section-directions-trip-title-1\" or@id=\"section-directions-trip-title-2\"]/span'\n",
    "    roads = driver.find_elements(By.XPATH, road_xpath)\n",
    "    print(roads)\n",
    "\n",
    "    list_of_via_roads_final1 = [None,]\n",
    "    list_of_via_roads_final2 = []\n",
    "\n",
    "\n",
    "    for road in roads:\n",
    "        road_name = road.text\n",
    "        print(road_name)\n",
    "        list_of_via_roads_final2.append(road_name)\n",
    "        check_for_and = \"and\" in road_name\n",
    "        check_for_slash = \"/\" in road_name\n",
    "\n",
    "\n",
    "\n",
    "        if check_for_and == True:\n",
    "\n",
    "            road_name_final1 = road_name.split('and')[0].strip()\n",
    "            road_name_final2 = road_name.split('and')[1].strip()\n",
    "            list_of_via_roads_final1.append(road_name_final1)\n",
    "            for items in range(len(list_of_via_roads_final1)):\n",
    "                if list_of_via_roads_final1[items] == road_name_final1:\n",
    "                    list_of_via_roads_final1.append(road_name_final2)\n",
    "\n",
    "                else:\n",
    "                    list_of_via_roads_final1.append(road_name_final1)\n",
    "\n",
    "\n",
    "        elif check_for_slash == True:\n",
    "\n",
    "            road_name_final1 = road_name.split('/')[0].strip()\n",
    "            list_of_via_roads_final1.append(road_name_final1)\n",
    "\n",
    "        else:\n",
    "            road_name_final1 = road_name\n",
    "            list_of_via_roads_final1.append(road_name_final1)\n",
    "\n",
    "\n",
    "\n",
    "\n",
    "    def remove_duplicates(values):\n",
    "        output = []\n",
    "        seen = set()\n",
    "        for value in values:\n",
    "            # If value has not been encountered yet,\n",
    "            # ... add it to both list and set.\n",
    "            if value not in seen:\n",
    "                output.append(value)\n",
    "                seen.add(value)\n",
    "        return output\n",
    "\n",
    "    # Remove duplicates from this list.\n",
    "    values = list_of_via_roads_final1\n",
    "    result = remove_duplicates(values)\n",
    "\n",
    "    list_of_via_roads_final1 = result\n",
    "\n",
    "\n",
    "\n",
    "    clean = [x for x in list_of_via_roads_final1 if x != None]\n",
    "    print(clean)\n",
    "\n",
    "    b = 0\n",
    "    c = 0\n",
    "    A = [None] * 5\n",
    "    for i in range(len(clean)):\n",
    "        # name_of_road = list_of_via_roads_final1[i]\n",
    "        csv_file = csv.reader(open('roads.csv', 'r', encoding='utf-8'))\n",
    "        # print(name_of_road)\n",
    "\n",
    "        for row in csv_file:\n",
    "            if clean[i] == row[0]:\n",
    "    #             print(row)\n",
    "                row.pop(0)\n",
    "                #print(row)\n",
    "                #print(row[0],row[1],row[2],row[3],row[4],row[5],row[6])\n",
    "                A[i] = regressor.predict([[row[0], row[1], row[2], row[3], row[4], row[5], row[6]]])\n",
    "\n",
    "    #             print(A[i])\n",
    "                b = b + 1\n",
    "\n",
    "    m = A[0]\n",
    "    # print(A)\n",
    "    for i in range(b):\n",
    "       if int(m)> int(A[i]):\n",
    "           m = A[i]\n",
    "           c = i\n",
    "\n",
    "\n",
    "    # print(m)\n",
    "    # print(c)\n",
    "\n",
    "\n",
    "    time.sleep(1)\n",
    "    clicking_path = f'//div[@id=\"section-directions-trip-{c}\"]'\n",
    "\n",
    "    driver.find_element(By.XPATH, clicking_path).click()\n",
    "    try:\n",
    "        driver.find_element(By.XPATH, clicking_path).click()\n",
    "    except:\n",
    "        pass\n",
    "\n",
    "    print(\"Safest route will be via \" + list_of_via_roads_final2[c])\n",
    "    final_result = \"Safest route will be via \" + list_of_via_roads_final2[c]\n",
    "\n",
    "\n",
    "    time.sleep(5)\n",
    "\n",
    "    url_current = driver.current_url\n",
    "    print(url_current)\n",
    "\n",
    "\n",
    "    label3 = Label(text = final_result,font= 50)\n",
    "    label3.place(x=400,y=380)\n",
    "\n",
    "    from twilio.rest import Client\n",
    "\n",
    "    # Your Account Sid and Auth Token from twilio.com/console\n",
    "    account_sid = 'AC3b2160df9122f450dead692e51dff8d4'\n",
    "    auth_token = 'ea79b13fb53fdc8e85565239a9003d81'\n",
    "    client = Client(account_sid, auth_token)\n",
    "\n",
    "    message = client.messages.create(\n",
    "        # body=\"Safest route between \" + src + \" and \" + dest + \" will be via \" + list_of_via_roads_final2[c],\n",
    "        body=url_current,\n",
    "\n",
    "        # your twilio number...\n",
    "        from_='+17069205692',\n",
    "\n",
    "        # user's whatsapp number...\n",
    "        to='+918108231625'\n",
    "    )\n",
    "\n",
    "    print(message.sid)\n"
   ]
  },
  {
   "cell_type": "code",
   "execution_count": 6,
   "metadata": {},
   "outputs": [
    {
     "data": {
      "text/plain": [
       "'1410953911488conf'"
      ]
     },
     "execution_count": 6,
     "metadata": {},
     "output_type": "execute_result"
    }
   ],
   "source": [
    "a.bind('<Return>',conf)"
   ]
  },
  {
   "cell_type": "code",
   "execution_count": null,
   "metadata": {},
   "outputs": [
    {
     "name": "stderr",
     "output_type": "stream",
     "text": [
      "\n",
      "\n",
      "====== WebDriver manager ======\n",
      "Could not get version for google-chrome with the command:  powershell \"$ErrorActionPreference='silentlycontinue' ; (Get-Item -Path \"$env:PROGRAMFILES\\Google\\Chrome\\Application\\chrome.exe\").VersionInfo.FileVersion ; if (-not $? -or $? -match $error) { (Get-Item -Path \"$env:PROGRAMFILES(x86)\\Google\\Chrome\\Application\\chrome.exe\").VersionInfo.FileVersion } if (-not $? -or $? -match $error) { (Get-Item -Path \"$env:LOCALAPPDATA\\Google\\Chrome\\Application\\chrome.exe\").VersionInfo.FileVersion } if (-not $? -or $? -match $error) { reg query \"HKCU\\SOFTWARE\\Google\\Chrome\\BLBeacon\" /v version } if (-not $? -or $? -match $error) { reg query \"HKLM\\SOFTWARE\\Wow6432Node\\Microsoft\\Windows\\CurrentVersion\\Uninstall\\Google Chrome\" /v version }\"\n",
      "Current google-chrome version is UNKNOWN\n",
      "Get LATEST chromedriver version for UNKNOWN google-chrome\n",
      "Trying to download new driver from https://chromedriver.storage.googleapis.com/99.0.4844.51/chromedriver_win32.zip\n",
      "Driver has been saved in cache [C:\\Users\\akshita\\.wdm\\drivers\\chromedriver\\win32\\99.0.4844.51]\n"
     ]
    },
    {
     "name": "stdout",
     "output_type": "stream",
     "text": [
      "[]\n",
      "[]\n"
     ]
    },
    {
     "name": "stderr",
     "output_type": "stream",
     "text": [
      "Exception in Tkinter callback\n",
      "Traceback (most recent call last):\n",
      "  File \"C:\\Users\\akshita\\anaconda3\\lib\\tkinter\\__init__.py\", line 1883, in __call__\n",
      "    return self.func(*args)\n",
      "  File \"<ipython-input-5-de3cc20606ab>\", line 141, in conf\n",
      "    print(\"Safest route will be via \" + list_of_via_roads_final2[c])\n",
      "IndexError: list index out of range\n"
     ]
    }
   ],
   "source": [
    "\n",
    "\n",
    "## Button for getting route (not configured as of now)\n",
    "button1 = Button(a,text='GET ROUTE',fg='black',width=15,font=15,background='white')\n",
    "button1.bind('<Button-1>',conf)\n",
    "button1.place(x=650,y=280)\n",
    "img = PhotoImage(file='images/voice_btn.gif')\n",
    "\n",
    "\n",
    "## Button for taking source input\n",
    "button2 = Button(a,text='voice',fg='black',width=40,height=30,font=5,background='black',command=voice1,image=img)\n",
    "button2.place(x=920,y=145)\n",
    "\n",
    "## Button for taking destination input\n",
    "button3 = Button(a,text='voice',fg='black',width=40,height=30,font=5,background='black',command=voice2,image=img)\n",
    "button3.place(x=920,y=200)\n",
    "\n",
    "\n",
    "\n",
    "a.mainloop()\n"
   ]
  },
  {
   "cell_type": "code",
   "execution_count": null,
   "metadata": {},
   "outputs": [],
   "source": [
    "import pickle\n",
    "pickle.dump(regressor,open('model.pkl','wb'))"
   ]
  },
  {
   "cell_type": "code",
   "execution_count": null,
   "metadata": {},
   "outputs": [],
   "source": [
    "import pickle"
   ]
  },
  {
   "cell_type": "code",
   "execution_count": 9,
   "metadata": {},
   "outputs": [
    {
     "ename": "NameError",
     "evalue": "name 'regressor' is not defined",
     "output_type": "error",
     "traceback": [
      "\u001b[1;31m---------------------------------------------------------------------------\u001b[0m",
      "\u001b[1;31mNameError\u001b[0m                                 Traceback (most recent call last)",
      "\u001b[1;32m<ipython-input-9-575887d87fa2>\u001b[0m in \u001b[0;36m<module>\u001b[1;34m\u001b[0m\n\u001b[1;32m----> 1\u001b[1;33m \u001b[0mpickle\u001b[0m\u001b[1;33m.\u001b[0m\u001b[0mdump\u001b[0m\u001b[1;33m(\u001b[0m\u001b[0mregressor\u001b[0m\u001b[1;33m,\u001b[0m\u001b[0mopen\u001b[0m\u001b[1;33m(\u001b[0m\u001b[1;34m'model.pkl'\u001b[0m\u001b[1;33m,\u001b[0m\u001b[1;34m'wb'\u001b[0m\u001b[1;33m)\u001b[0m\u001b[1;33m)\u001b[0m\u001b[1;33m\u001b[0m\u001b[1;33m\u001b[0m\u001b[0m\n\u001b[0m",
      "\u001b[1;31mNameError\u001b[0m: name 'regressor' is not defined"
     ]
    }
   ],
   "source": [
    "pickle.dump(regressor,open('model.pkl','wb'))"
   ]
  },
  {
   "cell_type": "code",
   "execution_count": null,
   "metadata": {},
   "outputs": [],
   "source": []
  }
 ],
 "metadata": {
  "kernelspec": {
   "display_name": "Python 3",
   "language": "python",
   "name": "python3"
  },
  "language_info": {
   "codemirror_mode": {
    "name": "ipython",
    "version": 3
   },
   "file_extension": ".py",
   "mimetype": "text/x-python",
   "name": "python",
   "nbconvert_exporter": "python",
   "pygments_lexer": "ipython3",
   "version": "3.8.5"
  }
 },
 "nbformat": 4,
 "nbformat_minor": 2
}
